{
 "cells": [
  {
   "cell_type": "code",
   "execution_count": 19,
   "metadata": {},
   "outputs": [
    {
     "name": "stdout",
     "output_type": "stream",
     "text": [
      "The autoreload extension is already loaded. To reload it, use:\n",
      "  %reload_ext autoreload\n"
     ]
    }
   ],
   "source": [
    "%load_ext autoreload\n",
    "%autoreload 2"
   ]
  },
  {
   "cell_type": "code",
   "execution_count": 20,
   "metadata": {},
   "outputs": [],
   "source": [
    "import numpy as np\n",
    "import jax.numpy as jnp\n",
    "import jax\n",
    "from lm import LM\n",
    "import scipy as sp\n",
    "jnp.set_printoptions(precision=4,linewidth=120)\n"
   ]
  },
  {
   "cell_type": "code",
   "execution_count": 21,
   "metadata": {},
   "outputs": [],
   "source": [
    "N=100\n",
    "Nx=20\n",
    "rng=np.random.default_rng(seed=123)\n",
    "arr = np.tile(np.arange(N).reshape(N,1),(1,Nx))\n",
    "offset = rng.permuted(np.tile(np.arange(1,N),(N,1)), axis=1)[:,:Nx-1]\n",
    "arr[:,1:]+=offset\n",
    "arr %= N\n",
    "x = jnp.asarray(rng.uniform(size=N))\n",
    "a = rng.uniform(size=(N,Nx))\n",
    "b = jnp.sum(a*x[arr]**2,axis=1)\n",
    "x0 = x+rng.uniform(-0.01,0.01,size=N)"
   ]
  },
  {
   "cell_type": "code",
   "execution_count": 22,
   "metadata": {},
   "outputs": [],
   "source": [
    "@jax.jit\n",
    "def f(x):\n",
    "    return jnp.sum(a*x[arr]**2,axis=1)-b"
   ]
  },
  {
   "cell_type": "code",
   "execution_count": 36,
   "metadata": {},
   "outputs": [],
   "source": [
    "solver=LM(f,x0)\n"
   ]
  },
  {
   "cell_type": "code",
   "execution_count": 37,
   "metadata": {},
   "outputs": [
    {
     "name": "stdout",
     "output_type": "stream",
     "text": [
      "Levenberg-Marquadrt Jacobian shape: (100, 100)\n",
      "Iteration: 5  L: 1.69e+02\n",
      "f abs mean: 1.48e-02  max: 6.24e-02\n",
      "Iteration: 10  L: 2.87e-03\n",
      "f abs mean: 4.34e-04  max: 2.41e-03\n",
      "Iteration: 15  L: 4.86e-08\n",
      "f abs mean: 2.90e-07  max: 9.67e-07\n",
      "Iteration: 17  L: 6.00e-10\n",
      "f abs mean: 5.90e-14  max: 1.90e-13\n"
     ]
    },
    {
     "data": {
      "text/plain": [
       "Array([-9.77e-15, -6.22e-15,  2.98e-14,  1.78e-15,  4.62e-14,  1.03e-13,  8.79e-14,  1.43e-13,  5.86e-14, -8.08e-14,\n",
       "       -6.79e-14,  1.07e-14, -4.00e-14,  7.99e-15, -5.77e-15, -1.15e-14,  3.77e-14,  3.20e-14,  1.42e-14, -7.73e-14,\n",
       "        8.30e-14, -4.44e-14, -6.35e-14,  7.86e-14, -3.15e-14, -8.08e-14,  8.17e-14,  7.55e-14,  3.55e-14,  5.33e-14,\n",
       "        4.35e-14,  1.50e-13, -5.77e-14, -4.26e-14,  9.06e-14,  5.20e-14,  1.78e-14, -5.82e-14,  1.38e-14,  6.57e-14,\n",
       "        2.66e-15, -5.42e-14,  4.44e-14,  1.74e-13, -1.33e-14,  8.04e-14,  4.44e-14,  3.42e-14,  1.69e-13,  6.66e-14,\n",
       "       -5.91e-14,  1.33e-14, -1.15e-14, -3.91e-14,  4.88e-14,  9.77e-15, -3.55e-14, -4.71e-14, -1.13e-13,  3.64e-14,\n",
       "        2.49e-14,  7.15e-14,  3.55e-15,  7.11e-15, -8.35e-14,  1.31e-13, -4.09e-14,  1.90e-13,  1.09e-13, -5.77e-14,\n",
       "       -1.04e-13,  1.06e-13, -7.64e-14,  6.13e-14,  5.20e-14, -6.97e-14,  3.64e-14,  2.66e-15,  1.07e-13, -4.00e-14,\n",
       "        8.70e-14,  3.55e-14,  1.29e-13, -1.04e-13,  1.33e-15, -7.86e-14,  7.02e-14,  1.38e-13, -8.08e-14,  1.19e-13,\n",
       "       -1.87e-14,  1.51e-13,  4.17e-14,  2.62e-14, -2.04e-14,  5.28e-14,  1.11e-14,  1.44e-13,  1.42e-14, -1.15e-14],      dtype=float64)"
      ]
     },
     "execution_count": 37,
     "metadata": {},
     "output_type": "execute_result"
    }
   ],
   "source": [
    "res=solver(L=1e7, maxiter=1000, ftol=1e-12,iter_print=5)\n",
    "res.f"
   ]
  },
  {
   "cell_type": "code",
   "execution_count": 26,
   "metadata": {},
   "outputs": [
    {
     "data": {
      "text/plain": [
       "Array([ 0.4 ,  0.2 ,  0.07,  0.86,  0.1 ,  0.75,  0.28,  0.61,  0.85,  0.61,  0.8 ,  0.63,  0.99,  0.73,  0.44,  0.82,\n",
       "        0.67,  0.67,  0.78,  0.55,  0.27,  0.87,  0.53,  0.52, -0.03,  0.87,  0.85,  0.39,  0.98,  0.84,  0.65,  0.05,\n",
       "        0.32,  0.36,  0.37,  0.46,  0.78,  0.76,  0.97,  0.87,  0.21,  0.86,  0.6 ,  0.43,  0.87,  0.13,  0.55,  0.58,\n",
       "        0.94, -0.01,  0.38,  0.73,  0.8 ,  0.68,  0.57,  0.65,  0.31,  0.78,  0.35,  0.37,  0.28,  0.3 ,  0.61,  0.6 ,\n",
       "        0.55,  0.52,  0.63,  0.39,  0.58,  0.83,  0.23,  0.79,  0.77,  0.58,  0.56,  0.24,  0.66,  0.93,  0.96,  0.94,\n",
       "        0.42,  0.44,  0.09,  0.64,  0.73,  0.23,  0.36,  0.9 ,  0.39,  0.38,  0.43,  0.63,  0.97,  0.86,  0.31,  0.15,\n",
       "        0.71,  0.11,  0.56,  0.85], dtype=float64)"
      ]
     },
     "execution_count": 26,
     "metadata": {},
     "output_type": "execute_result"
    }
   ],
   "source": [
    "res.x"
   ]
  },
  {
   "cell_type": "code",
   "execution_count": 38,
   "metadata": {},
   "outputs": [
    {
     "data": {
      "text/plain": [
       "Array([ 0.4 ,  0.2 ,  0.07,  0.86,  0.1 ,  0.75,  0.28,  0.61,  0.85,  0.61,  0.8 ,  0.63,  0.99,  0.73,  0.44,  0.82,\n",
       "        0.67,  0.67,  0.78,  0.55,  0.27,  0.87,  0.53,  0.52, -0.03,  0.87,  0.85,  0.39,  0.98,  0.84,  0.65,  0.05,\n",
       "        0.32,  0.36,  0.37,  0.46,  0.78,  0.76,  0.97,  0.87,  0.21,  0.86,  0.6 ,  0.43,  0.87,  0.13,  0.55,  0.58,\n",
       "        0.94, -0.01,  0.38,  0.73,  0.8 ,  0.68,  0.57,  0.65,  0.31,  0.78,  0.35,  0.37,  0.28,  0.3 ,  0.61,  0.6 ,\n",
       "        0.55,  0.52,  0.63,  0.39,  0.58,  0.83,  0.23,  0.79,  0.77,  0.58,  0.56,  0.24,  0.66,  0.93,  0.96,  0.94,\n",
       "        0.42,  0.44,  0.09,  0.64,  0.73,  0.23,  0.36,  0.9 ,  0.39,  0.38,  0.43,  0.63,  0.97,  0.86,  0.31,  0.15,\n",
       "        0.71,  0.11,  0.56,  0.85], dtype=float64)"
      ]
     },
     "execution_count": 38,
     "metadata": {},
     "output_type": "execute_result"
    }
   ],
   "source": [
    "res.x"
   ]
  },
  {
   "cell_type": "code",
   "execution_count": null,
   "metadata": {},
   "outputs": [],
   "source": []
  }
 ],
 "metadata": {
  "kernelspec": {
   "display_name": "fdem",
   "language": "python",
   "name": "python3"
  },
  "language_info": {
   "codemirror_mode": {
    "name": "ipython",
    "version": 3
   },
   "file_extension": ".py",
   "mimetype": "text/x-python",
   "name": "python",
   "nbconvert_exporter": "python",
   "pygments_lexer": "ipython3",
   "version": "3.10.13"
  }
 },
 "nbformat": 4,
 "nbformat_minor": 2
}
