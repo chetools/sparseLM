{
 "cells": [
  {
   "cell_type": "code",
   "execution_count": 2,
   "metadata": {},
   "outputs": [],
   "source": [
    "import numpy as np\n",
    "import jax.numpy as jnp\n",
    "import jax\n",
    "from lm import LM\n",
    "import scipy as sp\n",
    "jnp.set_printoptions(precision=4,linewidth=120)\n"
   ]
  },
  {
   "cell_type": "code",
   "execution_count": 3,
   "metadata": {},
   "outputs": [],
   "source": [
    "N=100\n",
    "Nx=20\n",
    "rng=np.random.default_rng(seed=123)\n",
    "arr = np.tile(np.arange(N).reshape(N,1),(1,Nx))\n",
    "offset = rng.permuted(np.tile(np.arange(1,N),(N,1)), axis=1)[:,:Nx-1]\n",
    "arr[:,1:]+=offset\n",
    "arr %= N\n",
    "x = jnp.asarray(rng.uniform(size=N))\n",
    "a = rng.uniform(size=(N,Nx))\n",
    "b = jnp.sum(a*x[arr]**2,axis=1)\n",
    "x0 = x+rng.uniform(-0.01,0.01,size=N)"
   ]
  },
  {
   "cell_type": "code",
   "execution_count": 4,
   "metadata": {},
   "outputs": [],
   "source": [
    "@jax.jit\n",
    "def f(x):\n",
    "    return jnp.sum(a*x[arr]**2,axis=1)-b"
   ]
  },
  {
   "cell_type": "code",
   "execution_count": 5,
   "metadata": {},
   "outputs": [],
   "source": [
    "res=LM(f,x0, L=1e7, maxiter=1000, ftol=1e-12)"
   ]
  },
  {
   "cell_type": "code",
   "execution_count": 6,
   "metadata": {},
   "outputs": [
    {
     "data": {
      "text/plain": [
       "Array([-1.1546e-14, -2.6645e-15, -1.8652e-14,  4.4409e-16,  1.4211e-14,  2.7534e-14,  3.0198e-14,  1.6431e-14,\n",
       "        1.9540e-14, -2.7534e-14, -2.3537e-14,  1.7764e-15, -1.7764e-14, -2.6645e-14, -1.7764e-14, -6.6613e-15,\n",
       "        1.2879e-14,  5.3291e-15,  5.3291e-15, -2.9310e-14,  1.4211e-14, -1.5987e-14, -3.0198e-14,  2.4869e-14,\n",
       "       -3.8192e-14, -2.8866e-14,  2.6645e-14, -3.9968e-15,  1.0658e-14,  1.6875e-14,  1.5987e-14,  6.2172e-15,\n",
       "       -2.0428e-14, -1.5099e-14,  1.9540e-14,  1.5987e-14, -8.8818e-15, -2.0872e-14, -4.4409e-15,  1.1990e-14,\n",
       "       -4.4409e-16, -2.2204e-14,  1.5099e-14,  5.8620e-14, -7.1054e-15,  1.2879e-14,  0.0000e+00, -1.5543e-14,\n",
       "        5.8620e-14,  1.2434e-14, -2.3537e-14,  2.6645e-15, -5.3291e-15, -1.8652e-14,  1.6875e-14,  8.8818e-16,\n",
       "       -1.3323e-14, -2.3093e-14, -4.2633e-14,  1.1546e-14,  6.2172e-15,  2.3981e-14, -4.4409e-15, -1.7764e-15,\n",
       "       -3.0198e-14,  3.9524e-14, -1.5099e-14,  5.3735e-14,  2.7534e-14, -2.1760e-14, -4.3077e-14,  3.1974e-14,\n",
       "       -2.7534e-14,  1.9540e-14,  1.6431e-14, -4.1300e-14,  7.1054e-15, -4.4409e-16,  1.0658e-14, -1.5987e-14,\n",
       "        2.0872e-14,  9.3259e-15,  4.3077e-14, -3.7748e-14, -7.5495e-15, -3.1530e-14,  2.2204e-14,  3.3751e-14,\n",
       "       -2.6645e-14,  8.8818e-16, -1.6875e-14,  2.3093e-14,  1.4211e-14,  4.4409e-15, -7.9936e-15,  9.7700e-15,\n",
       "        1.7764e-15,  2.2649e-14,  1.7764e-15, -6.2172e-15], dtype=float64)"
      ]
     },
     "execution_count": 6,
     "metadata": {},
     "output_type": "execute_result"
    }
   ],
   "source": [
    "res.f"
   ]
  },
  {
   "cell_type": "code",
   "execution_count": 7,
   "metadata": {},
   "outputs": [
    {
     "data": {
      "text/plain": [
       "Array([ 0.4043,  0.1999,  0.0726,  0.8614,  0.095 ,  0.7462,  0.2755,  0.605 ,  0.8469,  0.6053,  0.8049,  0.634 ,\n",
       "        0.9892,  0.7334,  0.4379,  0.818 ,  0.6701,  0.6702,  0.7818,  0.5516,  0.269 ,  0.8722,  0.5296,  0.5169,\n",
       "       -0.0263,  0.8683,  0.8493,  0.3876,  0.979 ,  0.8419,  0.6487,  0.0526,  0.3166,  0.3554,  0.3694,  0.4611,\n",
       "        0.7786,  0.7624,  0.9669,  0.8704,  0.2133,  0.8634,  0.5956,  0.4283,  0.8725,  0.1341,  0.5538,  0.5787,\n",
       "        0.9406, -0.006 ,  0.3844,  0.7349,  0.7971,  0.6797,  0.5672,  0.6476,  0.3147,  0.778 ,  0.3463,  0.3651,\n",
       "        0.2848,  0.298 ,  0.6124,  0.6025,  0.5478,  0.5191,  0.6309,  0.3918,  0.5769,  0.8339,  0.2266,  0.7864,\n",
       "        0.773 ,  0.5812,  0.5569,  0.2411,  0.6583,  0.9342,  0.9574,  0.9397,  0.4249,  0.443 ,  0.0945,  0.64  ,\n",
       "        0.7347,  0.2318,  0.3599,  0.8975,  0.3937,  0.3804,  0.4278,  0.625 ,  0.9681,  0.8553,  0.3072,  0.1464,\n",
       "        0.7072,  0.1077,  0.5609,  0.8454], dtype=float64)"
      ]
     },
     "execution_count": 7,
     "metadata": {},
     "output_type": "execute_result"
    }
   ],
   "source": [
    "res.x"
   ]
  }
 ],
 "metadata": {
  "kernelspec": {
   "display_name": "fdem",
   "language": "python",
   "name": "python3"
  },
  "language_info": {
   "codemirror_mode": {
    "name": "ipython",
    "version": 3
   },
   "file_extension": ".py",
   "mimetype": "text/x-python",
   "name": "python",
   "nbconvert_exporter": "python",
   "pygments_lexer": "ipython3",
   "version": "3.10.13"
  }
 },
 "nbformat": 4,
 "nbformat_minor": 2
}
